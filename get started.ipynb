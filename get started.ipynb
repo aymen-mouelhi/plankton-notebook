{
 "cells": [
  {
   "cell_type": "markdown",
   "metadata": {},
   "source": [
    "# Plankton 2.0 Challenge Tutorial\n"
   ]
  },
  {
   "cell_type": "markdown",
   "metadata": {},
   "source": [
    "## Getting Started\n",
    "\n",
    "Welcome to the Plantkon 2.0 Challenge origanized by SAP! In this notebook, some template code has already been provided for you, and it will be your job to implement the additional functionality necessary to successfully complete this project. Sections that begin with **'Implementation'** in the header indicate that the following block of code will require additional functionality which you must provide. Instructions will be provided for each section and the specifics of the implementation are marked in the code block with a `'TODO'` statement. Please be sure to read the instructions carefully!\n",
    "\n",
    "In addition to implementing code, there will be questions that you must answer which relate to the project and your implementation. Each section where you will answer a question is preceded by a **'Question X'** header. Carefully read each question and provide thorough answers in the following text boxes that begin with **'Answer:'**. Your project submission will be evaluated based on your answers to each of the questions and the implementation you provide.\n",
    "\n",
    ">**Note:** Please specify WHICH VERSION OF PYTHON you are using when submitting this notebook. Code and Markdown cells can be executed using the **Shift + Enter** keyboard shortcut. In addition, Markdown cells can be edited by typically double-clicking the cell to enter edit mode.\n",
    "\n",
    "![alt text](https://68.media.tumblr.com/avatar_5d78d8a8ae8e_128.png)"
   ]
  },
  {
   "cell_type": "markdown",
   "metadata": {},
   "source": [
    "## Bioindicators\n",
    "\n",
    "### Introduction\n",
    "\n",
    "Naturally occurring Bioindicators are used to assess the health of the environment and are also an important tool for detecting changes in the environment, either positive or negative, and their subsequent effects on human society. There are a certain factors which govern the presence of Bioindicators in environment such as transmission of light, water, temperature, and suspended solids. Through the application of Bioindicators we can predict the natural state of a certain region or the level/degree of contamination. The advantages associated with using Bioindicators are as follows:\n",
    "\n",
    "- Biological impacts can be determined.\n",
    "- To monitor synergetic and antagonistic impacts of various pollutants on a creature.\n",
    "- Early stage diagnosis as well as harmful effects of toxins to plants, as well as human beings, can be monitored.\n",
    "- Can be easily counted, due to their prevalence.\n",
    "- Economically viable alternative when compared with other specialized measuring systems.\n",
    "\n",
    "### Utilization of Bioindicators\n",
    "\n",
    "The expression ‘Bioindicator’ is used as an aggregate term referring to all sources of biotic and abiotic reactions to ecological changes. Instead of simply working as gauges of natural change, taxa are utilized to show the impacts of natural surrounding changes, or environmental change. They are used to detect changes in natural surroundings as well as to indicate negative or positive impacts. They can also detect changes in the environment due to the presence of pollutants which can affect the biodiversity of the environment, as well as species present in it. \n",
    "\n",
    "The condition of the environment is effectively monitored by the use of Bioindicator species due to their resistance to ecological variability. Hasselbach et al. utilized the moss i.e. Hylocomium splendens as a natural indicator of heavy metals in the remote tundra environment of northwestern Alaska. Here, the ore of mineral is mined from Red Dog Mine, the world’s largest creator of zinc (Zn), and is carried to a singular street (∼75 km long) to storage spaces on the Chukchi Sea. Hasselbach and her partners inspected whether this overland transport was influencing the encompassing physical biota. The contents of heavy metals inside the moss tissue were analyzed at different distances from the street. The concentrations of metals in moss tissue were most prominently adjacent to the haul street and reduced with distance, therefore supporting the theory that overland transport was in fact modifying the encompassing environment. In this study, lichens were utilized as biomonitors by utilizing the quantitative estimation of metal concentrations inside individual lichen.\n",
    "\n",
    "Natural, biological, and biodiversity markers can be found in various organisms occupying different types of environments. Lichens (a symbiosis among Cyano bacteria, algae, and/or fungi) and Bryophytes (liverworts) are frequently used to monitor air contamination. Both, Lichens and Bryophytes are powerful Bioindicators of air quality on the grounds that they have no roots, no fingernail skin, and acquire all their supplements from immediate introduction to the climate. Their high surface region to volume ratio further supports the theory of their use as a bioindicator, or supports their ability to capture contaminates from the air. Cynophyta, a type of phytoplankton, is one particularly powerful bioindicator which is known to indicate rapid eutrophication of water bodies such as reservoirs, lakes, etc. via the creation of bloom formations\n",
    "\n",
    "### Biomonitoring\n",
    "\n",
    "Bio-organisms are basically used to define the characteristics of a biosphere. These organisms are known as Bioindicators or biomonitors, both of which may vary considerably. When studying the environment the quality of changes taking place can be determined by Bioindicators while biomonitors are used to get quantitative information on the quality of the environment biological monitoring also incorporating data regarding past aggravations and the impacts of various variables.\n",
    "\n",
    "Monitoring can be done for various biological processes or systems with the objective of observing the temporal and spatial changes in health status, assessing the impacts of specific environment or anthropogenic stressors and assessing the viability of anthropogenic measures (e.g. reclamation, remediation, and reintroduction). The species diversity is used as a prime aspect in biological monitoring, which is considered to be a valuable parameter in determining the health of the environment.\n",
    "\n",
    "Biomonitoring is one of the essential components for assessing the quality of water and has become an integral element of conducting studies on water pollution. Biomonitors are freely available all around the world. They fundamentally mirror the natural impact over creatures and can be used and understood with minimum preparation and training. Despite the fact that all natural species can be considered biomonitors to some degree, the above focal points applies well to planktons and similar species type, when water pollution is considered.\n",
    "\n"
   ]
  },
  {
   "cell_type": "markdown",
   "metadata": {},
   "source": [
    "## Plankton\n",
    "\n",
    "\n",
    "### Introduction\n",
    "\n",
    "In many water bodies, such as, seas, lakes, streams, and swamps, significant biological production is carried out by plankton. Planktons are composed of organisms with chlorophyll (i.e. phytoplankton and animals such as zooplanktons). These planktons consist of communities that float along currents and tides, yet they fuse and cycle important quantities of energy that is then passed on to higher trophic levels (Walsh 1978).\n",
    "\n",
    "Planktons react rapidly to ecological changes and are viewed as excellent indicators of water quality and trophic conditions due to their short time and rapid rate of reproduction. Under natural conditions, the occurrence of planktonic organisms is identified with the resistance range\n",
    "\n",
    "in relation to abiotic ecological components (Temperature, Oxygen fixation, and pH) as well as the biotic connections among organisms. The changes that occur within the communities of planktons provide the platform to determine the trophic state of water bodies.\n",
    "\n",
    "![need](https://kaggle2.blob.core.windows.net/competitions/kaggle/3978/media/Plankton-Diagram3-lg.png)\n",
    "\n",
    "### Planktons as an indicator of water pollution\n",
    "\n",
    "Since planktons are profoundly sensitive to natural change they are best markers of water quality and particularly sea conditions. One of the reasons planktons are being considered in seas is to monitor the water quality of the lake when there are high centralizations of phosphorus and nitrogen; these centralizations may be indicated by certain planktons reproducing at an increased rate. This is evidence of poor water quality that may influence other organisms living in the water body. In addition to being a health indicator, planktons are also the fundamental sustenance for many larger organisms in the sea. Thus the plankton is key to the marine organisms, as both an indicator of water quality and as the main food source for many fish.\n",
    "\n",
    "Plankton also plays an important role in biological deterioration organic matter; but if plankton populations are too large this creates other problems in managing the water body. Fish at this critical stage of ecological process play an important role by grazing the planktons. The two roles played by fish are very crucial as they help in maintaining the proper balance of planktons in the pond and convert the nutrient available in wastewater into a form which is consumable by humans. Additionally, certain planktons such as cyanobacteria produce toxins which are harmful for fish growth. Thus planktons can be termed as useful or harmful, with respect to wastewater fed production of fishes.\n",
    "\n",
    "![indicator](http://www.tandfonline.com/na101/home/literatum/publisher/tandf/journals/content/tfls20/2016/tfls20.v009.i02/21553769.2016.1162753/20160621/images/medium/tfls_a_1162753_f0004_b.gif)\n",
    "\n",
    "### Phytoplankton\n",
    "\n",
    "Phytoplanktons, also known as microalgae, are similar to terrestrial plants in that they contain chlorophyll and require daylight to live and develop. Most are light and swim in the upper portion of the sea, where light infiltrates the water. Development and photosynthesis are closely related, each one being a function of usage of light and food supplements. Algae are quite sensitive to contamination, and this may be reflected in their population levels and/or rates or photosynthesis Affects development of population or photosynthesis, for the most part, algae are as sensitive to contaminations as other species. When there is change in the diversity of phytoplankton species, it may indicate pollution of the marine ecosystem.\n",
    "\n",
    "#### Evidences pertaining to phytoplankton\n",
    "\n",
    "Phytoplanktons have been used for successful observation of water contamination and are a useful indicator of water quality. \n",
    "In 1975, Dugdale depicted the relationship of the growth rate of an algal population, photosynthesis, and nutrient concentration in the water body. Contaminations can influence the connection between rate of growth and each of these variables. For example, if there is an industrial effluent which is colored or contains suspended solids light may be filtered or absorbed causing a reduction in rate of growth. Macisaacand and Dugdale in 1976 showed that a decrease of light leads to decrease in rate of uptake of ammonia and nitrate in marine phytoplankton.\n",
    "\n",
    "Overnell et al. demonstrated that light prompted oxygen evolution from the freshwater species Chlamydomonas reinhardtii was sensitive to cadmium, methyl mercury, and lead. Moore et al. discovered that organo-chlorine compounds decrease use of bicarbonate by estuarine phytoplankton. Whitacre et al. also produced significant research on the effect of numerous chlorinated hydrocarbons on fixation of carbon by phytoplankton.\n",
    "\n",
    "Phytoplanktons are also an important source of pollutant transfer from water to upper tropic levels and even to humans. Algae are unable to decompose the pesticides and are thus a link of transfer to herbivores when fed upon. Substances gathering and intake plays an important role in pollution dynamics of phytoplankton. If light is obstructed, it hampers the intake of ammonia and nitrate by aquatic phytoplankton as indicated by Mac Isaac and Dugdale, especially when the industrial colored or solid suspended waste accumulates on the water surface which results in reduction of growth rate, filtrations, and absorption of light.\n",
    "\n",
    "\n",
    "| Names of phytoplankton                        |             Indications            |\n",
    "| :--------------------------------------------:|:----------------------------------:|\n",
    "| Reen algae                                    |Facilitates the growth of fishes    |\n",
    "| Mosses, liverworts                            |Pollution by accumulation of metals |\n",
    "| Charophytes                                   |Quality of water                    |\n",
    "| Selanastrum                                   |Water pollution                     |\n",
    "| Wolffiaglobose                                |Contamination of cadmium            |\n",
    "| Euglena gracilis                              |Organic pollution in lakes                                        |\n",
    "| Chlorella vulgaris                            |Helps in removal of heavy metal contamination from water and soil |\n",
    "| Chlorococcales like C.vulgaris and A.falcatus |Indicators of the paper industry and sewage waste                 |\n",
    "\n",
    "\n",
    "\n",
    "\n",
    "### Zooplanktons\n",
    "\n",
    "Zooplanktons are microscopic animals living near to the surface of the water body. They are poor swimmers, instead relying on tides and currents as a transport mechanism. They feed upon phytoplanktons, bacterioplanktons, or detritus (i.e. marine snow). Zooplanktons constitute a vital food source for fish. They also play an important role as Bioindicators and help to evaluate the level of water pollution. In freshwater communities, along with fish, they are the main food supplement to many other marine species.\n",
    "\n",
    "They are assumed to be a vital part in indicating water quality, eutrophication, and production of a freshwater body. In order to determine the status of a freshwater body it is necessary to measure seasonal variations and presence of zooplanktons.\n",
    "\n",
    "Differing varieties of species, biomass diversity and wealth of zooplankton groups can be utilized to determine the strength of a biological system. The potential of zooplankton as a bioindicator species is high on the grounds that their development and conveyance are subject to some abiotic (e.g. temperature, saltiness, stratification, and pollutants) and biotic parameters (e.g. limitation of food, predation, and competition).\n",
    "\n",
    "#### Evidences pertaining to zooplanktons\n",
    "\n",
    "Mechanical fermentation brought on a reduction in the quantity of species and changes in species strength, both of which were influenced as pH decreased from 7.0 to 3.8. Jha and Barat completed research on Lake Mirik, in Darjeeling, Himalayas, on zooplankton. This lake was polluted due to toxins let into the lake from outer sources resulting in a decreased pH in the lake and an increased acidity level. This was confirmed by the investigation of other physiochemical parameters and planktons. In this condition, cladocerans (Bosmina, Moina, and Daphnia) and copepods (Phyllodiaptomus and cylops the most extensive copepods) were found. This examination presumed that the lake cannot be utilized as a deficit for the supply of drinking water and these organisms served as a bioindicator to focus on the wellbeing of this oceanic body. As indicated by Siddiqi and Chandrasekhar, trichotria tetrat is could be utilized as contamination indicators as they were seen in the lake which was rich in phosphorus and other heavy metal particle. This species was obtained in the past in sewage-contaminated tanks. Phosphorous and metal particle as well as high aggregate alkanity, hardness, and high conductivity (130 ms m−1) of the lake water were restricting components for the development of zooplankton.\n",
    "\n",
    "Zooplankton may be present in an extensive variety of ecological conditions. Yet disintegrated oxygen, temperature, salinity, pH, and other physicochemical parameters are restricting elements. The vicinity of three types of Brachionussp indicates that the lake is being eutrophicated and is naturally contaminated. There is variation in the population of copepods, seasonally in various water bodies present in different parts of India; the seasonal studies of zooplanktons showed that the zooplanktons’ density was highest in the rainy season, while it reduced in summers due to high temperatures. Copepods form the dominant group of all the zooplanktons, followed by Cladocera, rotifer, and Ostrocoda. Ultimately, zooplankton has been found to be excellent an Bioindicator to evaluate the contamination of anyoceanic bodies (saltwater).\n",
    "\n",
    "| Names of zooplanktons                              |             Indications            |\n",
    "| :-------------------------------------------------:|:----------------------------------:|\n",
    "| Rotifers                                           |Trophic status    |\n",
    "| Keratellatropica, Hexarthramira                    |High turbidity due to suspended sediments |\n",
    "| Brachionuscalyciflorus                             |Eutrophic conditions and organic pollution of lakes   |\n",
    "| Cladocerans group (unspecified)                    |Low concentration of contaminants |\n",
    "| Trichotriatetratis                                 |Pollution caused by accumulation of phosphorous and heavy metal ions |\n",
    "| Thermocyclops, argyrodiaptomus                     |Eutrophic conditions  |\n",
    "| B.angularis, Rotatoria                             |Eutrophic conditions |\n",
    "| Leeches                                            |Indicates contamination because of presence of PCB (polychlorinated biphenyl) in a river |\n",
    "| Leeches                                            |Sensor-bioindicator of river contamination of PCB’s |\n",
    "| Oyster (Crassostreagigas), crabs (Geoticadepressa) |Presence of lead                |\n",
    "| B. dolabrotus                                      |High turbidity due to suspended sediments                 |\n",
    "| Copepods (Cyclops & phyllodiaptomus)               |Health of the marine body                 |\n",
    "| Cladocerans (moina, daphnia, bosmina)              |Health of the marine body                 |\n",
    "\n",
    "\n"
   ]
  },
  {
   "cell_type": "markdown",
   "metadata": {},
   "source": [
    "## Exploring the Data"
   ]
  },
  {
   "cell_type": "markdown",
   "metadata": {},
   "source": [
    "Run the code cell below to load necessary Python libraries and load the plankton data. \n",
    "Note that the last column from this dataset, 'water_quality', will be our target label (whether the existince of this plankton indicate a good or a bad water quality). All other columns are features about each individual in the plankton database."
   ]
  },
  {
   "cell_type": "code",
   "execution_count": 5,
   "metadata": {
    "collapsed": false,
    "scrolled": true
   },
   "outputs": [
    {
     "data": {
      "text/html": [
       "<div>\n",
       "<style>\n",
       "    .dataframe thead tr:only-child th {\n",
       "        text-align: right;\n",
       "    }\n",
       "\n",
       "    .dataframe thead th {\n",
       "        text-align: left;\n",
       "    }\n",
       "\n",
       "    .dataframe tbody tr th {\n",
       "        vertical-align: top;\n",
       "    }\n",
       "</style>\n",
       "<table border=\"1\" class=\"dataframe\">\n",
       "  <thead>\n",
       "    <tr style=\"text-align: right;\">\n",
       "      <th></th>\n",
       "      <th>long</th>\n",
       "      <th>lat</th>\n",
       "      <th>depth</th>\n",
       "      <th>type</th>\n",
       "      <th>category</th>\n",
       "      <th>ship</th>\n",
       "      <th>cell_type</th>\n",
       "      <th>area</th>\n",
       "      <th>water_quality</th>\n",
       "    </tr>\n",
       "  </thead>\n",
       "  <tbody>\n",
       "    <tr>\n",
       "      <th>0</th>\n",
       "      <td>7.04</td>\n",
       "      <td>43.23</td>\n",
       "      <td>0.16</td>\n",
       "      <td>detritus</td>\n",
       "      <td>zooplankton</td>\n",
       "      <td>tara</td>\n",
       "      <td>200_500</td>\n",
       "      <td>mediterranean</td>\n",
       "      <td>bad</td>\n",
       "    </tr>\n",
       "  </tbody>\n",
       "</table>\n",
       "</div>"
      ],
      "text/plain": [
       "     long    lat  depth      type     category  ship cell_type           area  \\\n",
       "0    7.04  43.23   0.16  detritus  zooplankton  tara   200_500  mediterranean   \n",
       "\n",
       "  water_quality  \n",
       "0           bad  "
      ]
     },
     "metadata": {},
     "output_type": "display_data"
    }
   ],
   "source": [
    "# Import libraries necessary for this project\n",
    "import numpy as np\n",
    "import pandas as pd\n",
    "from time import time\n",
    "from IPython.display import display # Allows the use of display() for DataFrames\n",
    "\n",
    "# Import supplementary visualization code visuals.py\n",
    "import visuals as vs\n",
    "\n",
    "# Pretty display for notebooks\n",
    "%matplotlib inline\n",
    "\n",
    "# Load the Plankton dataset\n",
    "data = pd.read_csv(\"plankton.csv\")\n",
    "\n",
    "# Success - Display the first record\n",
    "display(data.head(n=1))"
   ]
  },
  {
   "cell_type": "markdown",
   "metadata": {},
   "source": [
    "### Implementation: Data Exploration"
   ]
  },
  {
   "cell_type": "markdown",
   "metadata": {},
   "source": [
    "A cursory investigation of the dataset will determine whether the plankton is a zooplankton or a phytoplankton and will tell us about the percentage of these two classes of plankton. In the code cell below, you will need to compute the following:\n",
    "\n",
    "- The total number of records, `'n_records'`\n",
    "- The number of phytoplankton, `'n_phyto'`.\n",
    "- The number of zooplankton, `'n_zoo'`.\n",
    "- The percentage of zooplankton, `'zoo_percent'`.\n",
    "\n",
    "** HINT: ** You need to import the plankton categories csv file to know to which class the plankton belongs."
   ]
  },
  {
   "cell_type": "code",
   "execution_count": null,
   "metadata": {
    "collapsed": true
   },
   "outputs": [],
   "source": [
    "# TODO: Total number of records\n",
    "n_records = \n",
    "\n",
    "# TODO: Number of records where type of plankton is phytoplankton\n",
    "n_phyto = \n",
    "\n",
    "# TODO: Number of records where type of plankton is zooplankton\n",
    "n_zoo = \n",
    "\n",
    "# TODO: Percentage of zooplankton in our dataset\n",
    "zoo_percent = \n",
    "\n",
    "# Print the results\n",
    "print (\"Total number of records: {}\".format(n_records))\n",
    "print (\"Total number of phytoplankton: {}\".format(n_phyto))\n",
    "print (\"Total number of zooplankton: {}\".format(n_zoo))\n",
    "print (\"Percentage of zooplankton: {:.2f}%\".format(zoo_percent))"
   ]
  },
  {
   "cell_type": "markdown",
   "metadata": {},
   "source": [
    "## Preparing the Data"
   ]
  },
  {
   "cell_type": "markdown",
   "metadata": {},
   "source": [
    "Before data can be used as input for machine learning algorithms, it often must be cleaned, formatted, and restructured — this is typically known as **preprocessing**. Fortunately, for this dataset, there are no invalid or missing entries we must deal with, however, there are some qualities about certain features that must be adjusted. This preprocessing can help tremendously with the outcome and predictive power of nearly all learning algorithms."
   ]
  },
  {
   "cell_type": "markdown",
   "metadata": {},
   "source": [
    "### Transforming Skewed Continuous Features \n",
    "\n",
    "A dataset may sometimes contain at least one feature whose values tend to lie near a single number, but will also have a non-trivial number of vastly larger or smaller values than that single number. Algorithms can be sensitive to such distributions of values and can underperform if the range is not properly normalized. With the census dataset two features fit this description: '`capital-gain'` and `'capital-loss'`.\n",
    "\n",
    "Run the code cell below to plot a histogram of these two features. Note the range of the values present and how they are distributed."
   ]
  },
  {
   "cell_type": "code",
   "execution_count": null,
   "metadata": {
    "collapsed": true
   },
   "outputs": [],
   "source": [
    "# Split the data into features and target label\n",
    "income_raw = data['income']\n",
    "features_raw = data.drop('income', axis = 1)\n",
    "\n",
    "# Visualize skewed continuous features of original data\n",
    "vs.distribution(data)"
   ]
  },
  {
   "cell_type": "markdown",
   "metadata": {},
   "source": [
    "For highly-skewed feature distributions such as `'capital-gain'` and `'capital-loss'`, it is common practice to apply a <a href=\"https://en.wikipedia.org/wiki/Data_transformation_(statistics)\">logarithmic transformation</a> on the data so that the very large and very small values do not negatively affect the performance of a learning algorithm. Using a logarithmic transformation significantly reduces the range of values caused by outliers. Care must be taken when applying this transformation however: The logarithm of `0` is undefined, so we must translate the values by a small amount above `0` to apply the the logarithm successfully."
   ]
  },
  {
   "cell_type": "code",
   "execution_count": null,
   "metadata": {
    "collapsed": true
   },
   "outputs": [],
   "source": [
    "# Log-transform the skewed features\n",
    "skewed = ['capital-gain', 'capital-loss']\n",
    "features_log_transformed = pd.DataFrame(data = features_raw)\n",
    "features_log_transformed[skewed] = features_raw[skewed].apply(lambda x: np.log(x + 1))\n",
    "\n",
    "# Visualize the new log distributions\n",
    "vs.distribution(features_log_transformed, transformed = True)"
   ]
  },
  {
   "cell_type": "markdown",
   "metadata": {},
   "source": [
    "### Normalizing Numerical Features\n",
    "\n",
    "In addition to performing transformations on features that are highly skewed, it is often good practice to perform some type of scaling on numerical features. Applying a scaling to the data does not change the shape of each feature's distribution (such as `'capital-gain'` or `'capital-loss'` above); however, normalization ensures that each feature is treated equally when applying supervised learners. Note that once scaling is applied, observing the data in its raw form will no longer have the same original meaning, as exampled below.\n",
    "\n",
    "Run the code cell below to normalize each numerical feature. We will use [`sklearn.preprocessing.MinMaxScaler`](http://scikit-learn.org/stable/modules/generated/sklearn.preprocessing.MinMaxScaler.html) for this."
   ]
  },
  {
   "cell_type": "code",
   "execution_count": null,
   "metadata": {
    "collapsed": true
   },
   "outputs": [],
   "source": [
    "# Import sklearn.preprocessing.StandardScaler\n",
    "from sklearn.preprocessing import MinMaxScaler\n",
    "\n",
    "# Initialize a scaler, then apply it to the features\n",
    "scaler = MinMaxScaler() # default=(0, 1)\n",
    "numerical = ['age', 'education-num', 'capital-gain', 'capital-loss', 'hours-per-week']\n",
    "\n",
    "features_log_minmax_transform = pd.DataFrame(data = features_log_transformed)\n",
    "features_log_minmax_transform[numerical] = scaler.fit_transform(features_log_transformed[numerical])\n",
    "\n",
    "# Show an example of a record with scaling applied\n",
    "display(features_log_minmax_transform.head(n = 5))"
   ]
  },
  {
   "cell_type": "markdown",
   "metadata": {},
   "source": [
    "### Implementation: Data Preprocessing\n",
    "\n",
    "From the table in **Exploring the Data** above, we can see there are several features for each record that are non-numeric. Typically, learning algorithms expect input to be numeric, which requires that non-numeric features (called *categorical variables*) be converted. One popular way to convert categorical variables is by using the **one-hot encoding** scheme. One-hot encoding creates a _\"dummy\"_ variable for each possible category of each non-numeric feature. For example, assume `someFeature` has three possible entries: `A`, `B`, or `C`. We then encode this feature into `someFeature_A`, `someFeature_B` and `someFeature_C`. \n",
    "\n",
    "| | someFeature | | someFeature_A | someFeature_B | someFeature_C |\n",
    "| :-: | :-: | | :-: | :-: | :-: |\n",
    "| 0 | B | | 0 | 1 | 0 |\n",
    "| 1 | C | ----> one-hot encode ----> | 0 | 0 | 1 |\n",
    "| 2 | A | | 1 | 0 | 0 |\n",
    "\n",
    "Additionally, as with the non-numeric features, we need to convert the non-numeric target label, `'category'` to numerical values for the learning algorithm to work. Since there are only two possible categories for this label (\"zooplankton\" and \"phytoplankton\"), we can avoid using one-hot encoding and simply encode these two categories as `0` and `1`, respectively. In code cell below, you will need to implement the following: \n",
    "\n",
    "- Use [`pandas.get_dummies()`](http://pandas.pydata.org/pandas-docs/stable/generated/pandas.get_dummies.html?highlight=get_dummies#pandas.get_dummies) to perform one-hot encoding on the `'features_raw'` data.\n",
    "- Convert the target label `'category_raw'` to numerical entries.\n",
    " - Set records with \"zooplankton\" to `0` and records with \"phytoplankton\" to `1`."
   ]
  },
  {
   "cell_type": "code",
   "execution_count": null,
   "metadata": {
    "collapsed": true
   },
   "outputs": [],
   "source": [
    "# TODO: One-hot encode the 'features_log_minmax_transform' data using pandas.get_dummies()\n",
    "categorical = ['workclass', 'education_level', 'marital-status', 'occupation', 'relationship', 'race', 'sex', 'native-country']\n",
    "features_final = pd.get_dummies(data=features_log_minmax_transform, columns=categorical)\n",
    "\n",
    "# TODO: Encode the 'income_raw' data to numerical values\n",
    "income = pd.get_dummies(income_raw)\n",
    "\n",
    "#income_raw = income[1]\n",
    "#income = income_raw\n",
    "\n",
    "income = income_raw.replace([\"<=50K\",\">50K\"],[0,1])\n",
    "\n",
    "# Print the number of features after one-hot encoding\n",
    "encoded = list(features_final.columns)\n",
    "print (\"{} total features after one-hot encoding.\".format(len(encoded)))\n",
    "\n",
    "# Uncomment the following line to see the encoded feature names\n",
    "#print (encoded)"
   ]
  },
  {
   "cell_type": "markdown",
   "metadata": {},
   "source": [
    "### Shuffle and Split Data \n",
    "\n",
    "Now all _categorical variables_ have been converted into numerical features, and all numerical features have been normalized. As always, we will now split the data (both features and their labels) into training and test sets. 80% of the data will be used for training and 20% for testing.\n",
    "\n",
    "Run the code cell below to perform this split."
   ]
  },
  {
   "cell_type": "code",
   "execution_count": null,
   "metadata": {
    "collapsed": true
   },
   "outputs": [],
   "source": [
    "# Import train_test_split\n",
    "from sklearn.cross_validation import train_test_split\n",
    "\n",
    "# Split the 'features' and 'income' data into training and testing sets\n",
    "X_train, X_test, y_train, y_test = train_test_split(features_final, \n",
    "                                                    income, \n",
    "                                                    test_size = 0.2, \n",
    "                                                    random_state = 0)\n",
    "\n",
    "# Show the results of the split\n",
    "print (\"Training set has {} samples.\".format(X_train.shape[0]))\n",
    "print (\"Testing set has {} samples.\".format(X_test.shape[0]))"
   ]
  },
  {
   "cell_type": "markdown",
   "metadata": {},
   "source": [
    "## Conclusion\n",
    "\n",
    "The aim of this tutorial is to help you understand the topic and prepare the data you will need to create supervised models and be able to build smart applications on top of these models.\n"
   ]
  },
  {
   "cell_type": "code",
   "execution_count": null,
   "metadata": {
    "collapsed": true
   },
   "outputs": [],
   "source": []
  }
 ],
 "metadata": {
  "kernelspec": {
   "display_name": "Python 3",
   "language": "python",
   "name": "python3"
  },
  "language_info": {
   "codemirror_mode": {
    "name": "ipython",
    "version": 3
   },
   "file_extension": ".py",
   "mimetype": "text/x-python",
   "name": "python",
   "nbconvert_exporter": "python",
   "pygments_lexer": "ipython3",
   "version": "3.6.0"
  }
 },
 "nbformat": 4,
 "nbformat_minor": 2
}
