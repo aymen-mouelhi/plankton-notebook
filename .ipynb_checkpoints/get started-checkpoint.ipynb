{
 "cells": [
  {
   "cell_type": "markdown",
   "metadata": {},
   "source": [
    "# Plankton 2.0 Challenge Tutorial\n"
   ]
  },
  {
   "cell_type": "markdown",
   "metadata": {},
   "source": [
    "## Getting Started\n",
    "\n",
    "Welcome to the Plantkon 2.0 Challenge origanized by SAP! In this notebook, some template code has already been provided for you, and it will be your job to implement the additional functionality necessary to successfully complete this project. Sections that begin with **'Implementation'** in the header indicate that the following block of code will require additional functionality which you must provide. Instructions will be provided for each section and the specifics of the implementation are marked in the code block with a `'TODO'` statement. Please be sure to read the instructions carefully!\n",
    "\n",
    "In addition to implementing code, there will be questions that you must answer which relate to the project and your implementation. Each section where you will answer a question is preceded by a **'Question X'** header. Carefully read each question and provide thorough answers in the following text boxes that begin with **'Answer:'**. Your project submission will be evaluated based on your answers to each of the questions and the implementation you provide.\n",
    "\n",
    ">**Note:** Please specify WHICH VERSION OF PYTHON you are using when submitting this notebook. Code and Markdown cells can be executed using the **Shift + Enter** keyboard shortcut. In addition, Markdown cells can be edited by typically double-clicking the cell to enter edit mode.\n",
    "\n",
    "![alt text](https://68.media.tumblr.com/avatar_5d78d8a8ae8e_128.png)"
   ]
  },
  {
   "cell_type": "markdown",
   "metadata": {},
   "source": [
    "## Bioindicators\n",
    "\n",
    "### Introduction\n",
    "\n",
    "Naturally occurring Bioindicators are used to assess the health of the environment and are also an important tool for detecting changes in the environment, either positive or negative, and their subsequent effects on human society. There are a certain factors which govern the presence of Bioindicators in environment such as transmission of light, water, temperature, and suspended solids. Through the application of Bioindicators we can predict the natural state of a certain region or the level/degree of contamination. The advantages associated with using Bioindicators are as follows:\n",
    "\n",
    "- Biological impacts can be determined.\n",
    "- To monitor synergetic and antagonistic impacts of various pollutants on a creature.\n",
    "- Early stage diagnosis as well as harmful effects of toxins to plants, as well as human beings, can be monitored.\n",
    "- Can be easily counted, due to their prevalence.\n",
    "- Economically viable alternative when compared with other specialized measuring systems."
   ]
  },
  {
   "cell_type": "markdown",
   "metadata": {},
   "source": [
    "## Plankton\n",
    "\n",
    "\n",
    "### Introduction\n",
    "\n",
    "In many water bodies, such as, seas, lakes, streams, and swamps, significant biological production is carried out by plankton. Planktons are composed of organisms with chlorophyll (i.e. phytoplankton and animals such as zooplanktons). These planktons consist of communities that float along currents and tides, yet they fuse and cycle important quantities of energy that is then passed on to higher trophic levels (Walsh 1978).\n",
    "\n",
    "Planktons react rapidly to ecological changes and are viewed as excellent indicators of water quality and trophic conditions due to their short time and rapid rate of reproduction. Under natural conditions, the occurrence of planktonic organisms is identified with the resistance range\n",
    "\n",
    "in relation to abiotic ecological components (Temperature, Oxygen fixation, and pH) as well as the biotic connections among organisms. The changes that occur within the communities of planktons provide the platform to determine the trophic state of water bodies.\n",
    "\n",
    "### Planktons as an indicator of water pollution\n",
    "\n",
    "Since planktons are profoundly sensitive to natural change they are best markers of water quality and particularly sea conditions. One of the reasons planktons are being considered in seas is to monitor the water quality of the lake when there are high centralizations of phosphorus and nitrogen; these centralizations may be indicated by certain planktons reproducing at an increased rate. This is evidence of poor water quality that may influence other organisms living in the water body. In addition to being a health indicator, planktons are also the fundamental sustenance for many larger organisms in the sea. Thus the plankton is key to the marine organisms, as both an indicator of water quality and as the main food source for many fish.\n",
    "\n",
    "Plankton also plays an important role in biological deterioration organic matter; but if plankton populations are too large this creates other problems in managing the water body. Fish at this critical stage of ecological process play an important role by grazing the planktons. The two roles played by fish are very crucial as they help in maintaining the proper balance of planktons in the pond and convert the nutrient available in wastewater into a form which is consumable by humans. Additionally, certain planktons such as cyanobacteria produce toxins which are harmful for fish growth. Thus planktons can be termed as useful or harmful, with respect to wastewater fed production of fishes.\n",
    "\n",
    "![RL](http://www.tandfonline.com/na101/home/literatum/publisher/tandf/journals/content/tfls20/2016/tfls20.v009.i02/21553769.2016.1162753/20160621/images/medium/tfls_a_1162753_f0004_b.gif)\n",
    "\n",
    "### Phytoplankton\n",
    "\n",
    "Phytoplanktons, also known as microalgae, are similar to terrestrial plants in that they contain chlorophyll and require daylight to live and develop. Most are light and swim in the upper portion of the sea, where light infiltrates the water. Development and photosynthesis are closely related, each one being a function of usage of light and food supplements. Algae are quite sensitive to contamination, and this may be reflected in their population levels and/or rates or photosynthesis Affects development of population or photosynthesis, for the most part, algae are as sensitive to contaminations as other species. When there is change in the diversity of phytoplankton species, it may indicate pollution of the marine ecosystem (Walsh 1978 Walsh GE. 1978. Toxic effects of pollutants on plankton. In: Butler GC, editor. Principles of ecotoxicology. New York (NY): Wiley. Chapter 12; p. 257–274. [Google Scholar]; Hosmani 2014 Hosmani S. 2014. Freshwater plankton ecology: a review. J Res Manage Technol. 3:1–10. doi: 10.1016/j.jmrt.2014.02.001 [Crossref], [Google Scholar]).\n",
    "\n",
    "#### Evidences pertaining to phytoplankton\n",
    "\n",
    "Phytoplanktons have been used for successful observation of water contamination and are a useful indicator of water quality. \n",
    "In 1975, Dugdale depicted the relationship of the growth rate of an algal population, photosynthesis, and nutrient concentration in the water body. Contaminations can influence the connection between rate of growth and each of these variables. For example, if there is an industrial effluent which is colored or contains suspended solids light may be filtered or absorbed causing a reduction in rate of growth. Macisaacand and Dugdale in 1976 showed that a decrease of light leads to decrease in rate of uptake of ammonia and nitrate in marine phytoplankton.\n",
    "\n",
    "Overnell et al. demonstrated that light prompted oxygen evolution from the freshwater species Chlamydomonas reinhardtii was sensitive to cadmium, methyl mercury, and lead. Moore et al. discovered that organo-chlorine compounds decrease use of bicarbonate by estuarine phytoplankton. Whitacre et al. also produced significant research on the effect of numerous chlorinated hydrocarbons on fixation of carbon by phytoplankton.\n",
    "\n",
    "Phytoplanktons are also an important source of pollutant transfer from water to upper tropic levels and even to humans. Algae are unable to decompose the pesticides and are thus a link of transfer to herbivores when fed upon. Substances gathering and intake plays an important role in pollution dynamics of phytoplankton. If light is obstructed, it hampers the intake of ammonia and nitrate by aquatic phytoplankton as indicated by Mac Isaac and Dugdale, especially when the industrial colored or solid suspended waste accumulates on the water surface which results in reduction of growth rate, filtrations, and absorption of light.\n",
    "\n",
    "\n",
    "| Names of phytoplankton                        |             Indications            |\n",
    "| :--------------------------------------------:|:----------------------------------:|\n",
    "| Reen algae                                    |Facilitates the growth of fishes    |\n",
    "| Mosses, liverworts                            |Pollution by accumulation of metals |\n",
    "| Charophytes                                   |Quality of water                    |\n",
    "| Selanastrum                                   |Water pollution                     |\n",
    "| Wolffiaglobose                                |Contamination of cadmium            |\n",
    "| Euglena gracilis                              |Organic pollution in lakes                                        |\n",
    "| Chlorella vulgaris                            |Helps in removal of heavy metal contamination from water and soil |\n",
    "| Chlorococcales like C.vulgaris and A.falcatus |Indicators of the paper industry and sewage waste                 |\n",
    "\n",
    "\n",
    "\n",
    "\n",
    "### Zooplanktons\n",
    "\n",
    "Zooplanktons are microscopic animals living near to the surface of the water body. They are poor swimmers, instead relying on tides and currents as a transport mechanism. They feed upon phytoplanktons, bacterioplanktons, or detritus (i.e. marine snow). Zooplanktons constitute a vital food source for fish. They also play an important role as Bioindicators and help to evaluate the level of water pollution. In freshwater communities, along with fish, they are the main food supplement to many other marine species.\n",
    "\n",
    "They are assumed to be a vital part in indicating water quality, eutrophication, and production of a freshwater body. In order to determine the status of a freshwater body it is necessary to measure seasonal variations and presence of zooplanktons.\n",
    "\n",
    "Differing varieties of species, biomass diversity and wealth of zooplankton groups can be utilized to determine the strength of a biological system. The potential of zooplankton as a bioindicator species is high on the grounds that their development and conveyance are subject to some abiotic (e.g. temperature, saltiness, stratification, and pollutants) and biotic parameters (e.g. limitation of food, predation, and competition).\n",
    "\n",
    "#### Evidences pertaining to zooplanktons\n",
    "\n",
    "Mechanical fermentation brought on a reduction in the quantity of species and changes in species strength, both of which were influenced as pH decreased from 7.0 to 3.8. Jha and Barat completed research on Lake Mirik, in Darjeeling, Himalayas, on zooplankton. This lake was polluted due to toxins let into the lake from outer sources resulting in a decreased pH in the lake and an increased acidity level. This was confirmed by the investigation of other physiochemical parameters and planktons. In this condition, cladocerans (Bosmina, Moina, and Daphnia) and copepods (Phyllodiaptomus and cylops the most extensive copepods) were found. This examination presumed that the lake cannot be utilized as a deficit for the supply of drinking water and these organisms served as a bioindicator to focus on the wellbeing of this oceanic body. As indicated by Siddiqi and Chandrasekhar, trichotria tetrat is could be utilized as contamination indicators as they were seen in the lake which was rich in phosphorus and other heavy metal particle. This species was obtained in the past in sewage-contaminated tanks. Phosphorous and metal particle as well as high aggregate alkanity, hardness, and high conductivity (130 ms m−1) of the lake water were restricting components for the development of zooplankton.\n",
    "\n",
    "Zooplankton may be present in an extensive variety of ecological conditions. Yet disintegrated oxygen, temperature, salinity, pH, and other physicochemical parameters are restricting elements. The vicinity of three types of Brachionussp indicates that the lake is being eutrophicated and is naturally contaminated. There is variation in the population of copepods, seasonally in various water bodies present in different parts of India; the seasonal studies of zooplanktons showed that the zooplanktons’ density was highest in the rainy season, while it reduced in summers due to high temperatures. Copepods form the dominant group of all the zooplanktons, followed by Cladocera, rotifer, and Ostrocoda. Ultimately, zooplankton has been found to be excellent an Bioindicator to evaluate the contamination of anyoceanic bodies (saltwater).\n",
    "\n",
    "| Names of zooplanktons                              |             Indications            |\n",
    "| :-------------------------------------------------:|:----------------------------------:|\n",
    "| Rotifers                                           |Trophic status    |\n",
    "| Keratellatropica, Hexarthramira                    |High turbidity due to suspended sediments |\n",
    "| Brachionuscalyciflorus                             |Eutrophic conditions and organic pollution of lakes   |\n",
    "| Cladocerans group (unspecified)                    |Low concentration of contaminants |\n",
    "| Trichotriatetratis                                 |Pollution caused by accumulation of phosphorous and heavy metal ions |\n",
    "| Thermocyclops, argyrodiaptomus                     |Eutrophic conditions  |\n",
    "| B.angularis, Rotatoria                             |Eutrophic conditions |\n",
    "| Leeches                                            |Indicates contamination because of presence of PCB (polychlorinated biphenyl) in a river |\n",
    "| Leeches                                            |Sensor-bioindicator of river contamination of PCB’s |\n",
    "| Oyster (Crassostreagigas), crabs (Geoticadepressa) |Presence of lead                |\n",
    "| B. dolabrotus                                      |High turbidity due to suspended sediments                 |\n",
    "| Copepods (Cyclops & phyllodiaptomus)               |Health of the marine body                 |\n",
    "| Cladocerans (moina, daphnia, bosmina)              |Health of the marine body                 |\n",
    "\n",
    "\n"
   ]
  },
  {
   "cell_type": "markdown",
   "metadata": {},
   "source": [
    "## Exploring the Data"
   ]
  },
  {
   "cell_type": "markdown",
   "metadata": {},
   "source": [
    "## Preparing the Data"
   ]
  },
  {
   "cell_type": "code",
   "execution_count": null,
   "metadata": {
    "collapsed": true
   },
   "outputs": [],
   "source": []
  }
 ],
 "metadata": {
  "kernelspec": {
   "display_name": "Python 3",
   "language": "python",
   "name": "python3"
  },
  "language_info": {
   "codemirror_mode": {
    "name": "ipython",
    "version": 3
   },
   "file_extension": ".py",
   "mimetype": "text/x-python",
   "name": "python",
   "nbconvert_exporter": "python",
   "pygments_lexer": "ipython3",
   "version": "3.6.0"
  }
 },
 "nbformat": 4,
 "nbformat_minor": 2
}
